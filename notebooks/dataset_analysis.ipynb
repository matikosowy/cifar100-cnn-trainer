{
 "cells": [
  {
   "cell_type": "code",
   "execution_count": 1,
   "metadata": {},
   "outputs": [],
   "source": [
    "import torch\n",
    "from torchvision import datasets\n",
    "from torchvision.transforms import v2 as transforms\n",
    "from torch.utils.data import DataLoader, Subset\n",
    "import numpy as np\n",
    "import random\n",
    "from tqdm.notebook import tqdm\n",
    "\n",
    "# Seedy dla powtarzalności wyników\n",
    "torch.manual_seed(42)\n",
    "np.random.seed(42)\n",
    "random.seed(42)"
   ]
  },
  {
   "cell_type": "code",
   "execution_count": 2,
   "metadata": {},
   "outputs": [],
   "source": [
    "BATCH_SIZE = 128\n",
    "NUM_CLASSES = 50\n",
    "DEVICE = torch.device(\"cuda\" if torch.cuda.is_available() else \"cpu\")"
   ]
  },
  {
   "cell_type": "code",
   "execution_count": 17,
   "metadata": {},
   "outputs": [
    {
     "name": "stdout",
     "output_type": "stream",
     "text": [
      "Files already downloaded and verified\n",
      "Files already downloaded and verified\n",
      "Files already downloaded and verified\n"
     ]
    }
   ],
   "source": [
    "mean = [0.5071, 0.4867, 0.4408]\n",
    "std = [0.2675, 0.2565, 0.2761]\n",
    "\n",
    "\n",
    "train_transform = transforms.Compose([\n",
    "transforms.RandomHorizontalFlip(),\n",
    "transforms.RandomCrop(32, padding=4),\n",
    "transforms.RandomRotation(15),\n",
    "transforms.ColorJitter(brightness=0.2, saturation=0.2, contrast=0.2, hue=0.1), \n",
    "transforms.RandomErasing(p=0.1), \n",
    "transforms.Compose([\n",
    "    transforms.ToImage(),\n",
    "    transforms.ToDtype(torch.float32, scale=True)\n",
    "]),\n",
    "    transforms.Normalize(mean, std)\n",
    "])\n",
    "\n",
    "test_transform = transforms.Compose([\n",
    "    transforms.Compose([\n",
    "    transforms.ToImage(),\n",
    "    transforms.ToDtype(torch.float32, scale=True)\n",
    "    ]),\n",
    "    transforms.Normalize(mean, std)\n",
    "])\n",
    "\n",
    "train_dataset = datasets.CIFAR100(\n",
    "        root='./data', \n",
    "        train=True, \n",
    "        download=True, \n",
    "        transform=train_transform\n",
    "    )\n",
    "\n",
    "val_dataset = datasets.CIFAR100(\n",
    "    root='./data', \n",
    "    train=True, \n",
    "    download=True, \n",
    "    transform=test_transform\n",
    ")\n",
    "\n",
    "test_dataset = datasets.CIFAR100(\n",
    "    root='./data', \n",
    "    train=False, \n",
    "    download=True, \n",
    "    transform=test_transform\n",
    ")\n",
    "\n",
    "# Randomly select 50 classes (with fixed seed for reproducibility)\n",
    "rng = np.random.RandomState(42)\n",
    "selected_classes = rng.choice(100, NUM_CLASSES, replace=False)\n",
    "selected_classes.sort()  # Sort for consistency\n",
    "\n",
    "# Create class mapping (old index -> new index)\n",
    "class_mapping = {old_idx: new_idx for new_idx, old_idx in enumerate(selected_classes)}\n",
    "\n",
    "# Filter training dataset\n",
    "train_indices = [i for i in range(len(train_dataset)) \n",
    "                if train_dataset.targets[i] in selected_classes]\n",
    "\n",
    "val_indices = [i for i in range(len(val_dataset))\n",
    "                    if val_dataset.targets[i] in selected_classes]\n",
    "\n",
    "# Filter test dataset\n",
    "test_indices = [i for i in range(len(test_dataset)) \n",
    "                if test_dataset.targets[i] in selected_classes]\n",
    "\n",
    "# Create subsets\n",
    "train_dataset = torch.utils.data.Subset(train_dataset, train_indices)\n",
    "val_dataset = torch.utils.data.Subset(val_dataset, val_indices)\n",
    "test_dataset = torch.utils.data.Subset(test_dataset, test_indices)\n",
    "\n",
    "# Remap class indices\n",
    "train_dataset.dataset.targets = [class_mapping[target] if target in class_mapping \n",
    "                                else target for target in train_dataset.dataset.targets]\n",
    "val_dataset.dataset.targets = [class_mapping[target] if target in class_mapping \n",
    "                                else target for target in val_dataset.dataset.targets]\n",
    "test_dataset.dataset.targets = [class_mapping[target] if target in class_mapping \n",
    "                                else target for target in test_dataset.dataset.targets]\n",
    "\n",
    "# Save class mapping for reference\n",
    "class_names = train_dataset.dataset.classes\n",
    "selected_class_names = [class_names[i] for i in selected_classes]\n",
    "\n",
    "# Split train into train and val\n",
    "generator = torch.Generator().manual_seed(42)\n",
    "train_split = int(0.8 * len(train_dataset))\n",
    "    \n",
    "indices = torch.randperm(len(train_dataset), generator=generator)\n",
    "train_indices = indices[:train_split]\n",
    "val_indices = indices[train_split:]\n",
    "    \n",
    "train_dataset = Subset(train_dataset, train_indices)\n",
    "val_dataset = Subset(val_dataset, val_indices)\n",
    "\n",
    "# Create DataLoaders\n",
    "train_loader = torch.utils.data.DataLoader(\n",
    "    train_dataset, \n",
    "    batch_size=BATCH_SIZE, \n",
    "    shuffle=True, \n",
    "\n",
    ")\n",
    "\n",
    "val_loader = torch.utils.data.DataLoader(\n",
    "    val_dataset, \n",
    "    batch_size=BATCH_SIZE, \n",
    "    shuffle=False, \n",
    "\n",
    ")\n",
    "\n",
    "test_loader = torch.utils.data.DataLoader(\n",
    "    test_dataset, \n",
    "    batch_size=BATCH_SIZE, \n",
    "    shuffle=False, \n",
    ")"
   ]
  },
  {
   "cell_type": "code",
   "execution_count": 18,
   "metadata": {},
   "outputs": [
    {
     "name": "stdout",
     "output_type": "stream",
     "text": [
      "Number of training examples: 20000\n",
      "Number of validation examples: 5000\n",
      "Number of testing examples: 5000\n"
     ]
    }
   ],
   "source": [
    "print(f\"Number of training examples: {len(train_dataset)}\")\n",
    "print(f\"Number of validation examples: {len(val_dataset)}\")\n",
    "print(f\"Number of testing examples: {len(test_dataset)}\")"
   ]
  },
  {
   "cell_type": "code",
   "execution_count": 22,
   "metadata": {},
   "outputs": [
    {
     "name": "stderr",
     "output_type": "stream",
     "text": [
      "Clipping input data to the valid range for imshow with RGB data ([0..1] for floats or [0..255] for integers). Got range [-1.8974658..0.77545077].\n",
      "Clipping input data to the valid range for imshow with RGB data ([0..1] for floats or [0..255] for integers). Got range [-1.8974658..2.025353].\n",
      "Clipping input data to the valid range for imshow with RGB data ([0..1] for floats or [0..255] for integers). Got range [-1.7051198..1.6560639].\n",
      "Clipping input data to the valid range for imshow with RGB data ([0..1] for floats or [0..255] for integers). Got range [-1.8974658..2.025353].\n",
      "Clipping input data to the valid range for imshow with RGB data ([0..1] for floats or [0..255] for integers). Got range [-1.7051198..1.3437529].\n"
     ]
    },
    {
     "data": {
      "image/png": "[encoded data removed]",
      "text/plain": [
       "<Figure size 1500x500 with 5 Axes>"
      ]
     },
     "metadata": {},
     "output_type": "display_data"
    }
   ],
   "source": [
    "import matplotlib.pyplot as plt\n",
    "\n",
    "sample = next(iter(train_loader))\n",
    "images, labels = sample\n",
    "\n",
    "fig, axes = plt.subplots(1, 5, figsize=(15, 5))\n",
    "for i in range(5):\n",
    "    axes[i].imshow(images[i].permute(1, 2, 0))\n",
    "    axes[i].set_title(selected_class_names[labels[i].item()])\n",
    "    axes[i].axis('off')\n",
    "plt.show()"
   ]
  }
 ],
 "metadata": {
  "kernelspec": {
   "display_name": "ml",
   "language": "python",
   "name": "python3"
  },
  "language_info": {
   "codemirror_mode": {
    "name": "ipython",
    "version": 3
   },
   "file_extension": ".py",
   "mimetype": "text/x-python",
   "name": "python",
   "nbconvert_exporter": "python",
   "pygments_lexer": "ipython3",
   "version": "3.12.5"
  }
 },
 "nbformat": 4,
 "nbformat_minor": 2
}
